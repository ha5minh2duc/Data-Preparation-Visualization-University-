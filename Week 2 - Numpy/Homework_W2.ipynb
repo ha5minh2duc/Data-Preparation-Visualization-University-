{
  "nbformat": 4,
  "nbformat_minor": 0,
  "metadata": {
    "colab": {
      "name": "Homework - W2.ipynb",
      "provenance": []
    },
    "kernelspec": {
      "name": "python3",
      "display_name": "Python 3"
    },
    "language_info": {
      "name": "python"
    }
  },
  "cells": [
    {
      "cell_type": "code",
      "metadata": {
        "id": "KkkiJFHrGLaS"
      },
      "source": [
        "from __future__ import print_function \n",
        "import numpy as np\n",
        "import matplotlib.pyplot as plt\n",
        "from scipy.spatial.distance import cdist\n",
        "np.random.seed(11)"
      ],
      "execution_count": 1,
      "outputs": []
    },
    {
      "cell_type": "code",
      "metadata": {
        "id": "ZQgDzWAzGr-j",
        "colab": {
          "base_uri": "https://localhost:8080/"
        },
        "outputId": "90f0dc25-a1aa-48b4-9fdf-ca3d82a16f0d"
      },
      "source": [
        "means = [[2, 2], [8, 3], [3, 6]]\n",
        "cov = [[1, 0], [0, 1]]\n",
        "N = 21\n",
        "X0 = np.random.multivariate_normal(means[0], cov, N)\n",
        "X1 = np.random.multivariate_normal(means[1], cov, N)\n",
        "X2 = np.random.multivariate_normal(means[2], cov, N)\n",
        "\n",
        "X = np.concatenate((X0, X1, X2), axis = 0)\n",
        "K = 3\n",
        "\n",
        "original_label = np.asarray([0]*N + [1]*N + [2]*N).T\n",
        "\n",
        "X0"
      ],
      "execution_count": 2,
      "outputs": [
        {
          "output_type": "execute_result",
          "data": {
            "text/plain": [
              "array([[ 3.74945474,  1.713927  ],\n",
              "       [ 1.51543487, -0.65331856],\n",
              "       [ 1.99171537,  1.68036864],\n",
              "       [ 1.46337064,  2.31540267],\n",
              "       [ 2.42105072,  0.93439702],\n",
              "       [ 1.11376033,  1.52426651],\n",
              "       [ 2.68968231,  2.56119218],\n",
              "       [ 0.69445149,  0.88052474],\n",
              "       [ 2.73683739,  3.57463407],\n",
              "       [ 1.96892491,  1.31655337],\n",
              "       [ 3.0956297 ,  1.69042336],\n",
              "       [ 2.72575222,  3.54907163],\n",
              "       [ 2.63007982,  2.07349324],\n",
              "       [ 2.73227135,  1.35742461],\n",
              "       [ 1.82190682,  1.42604544],\n",
              "       [ 1.79562468,  1.5135049 ],\n",
              "       [ 1.81422468,  1.61946358],\n",
              "       [ 2.08897764,  2.06367166],\n",
              "       [ 2.29634711,  3.40277112],\n",
              "       [ 0.45313743,  3.29561858],\n",
              "       [ 1.76274955,  0.76765379]])"
            ]
          },
          "metadata": {},
          "execution_count": 2
        }
      ]
    },
    {
      "cell_type": "code",
      "metadata": {
        "colab": {
          "base_uri": "https://localhost:8080/",
          "height": 265
        },
        "id": "uRIivn4hGvbY",
        "outputId": "cc2935a1-ed64-4abc-e1f7-ca9898ffdad9"
      },
      "source": [
        "def kmeans_display(X, label):\n",
        "    K = np.amax(label) + 1\n",
        "    X0 = X[label == 0, :]\n",
        "    X1 = X[label == 1, :]\n",
        "    X2 = X[label == 2, :]\n",
        "    \n",
        "    plt.plot(X0[:, 0], X0[:, 1], 'b^', markersize = 9, alpha = .9)\n",
        "    plt.plot(X1[:, 0], X1[:, 1], 'go', markersize = 9, alpha = .9)\n",
        "    plt.plot(X2[:, 0], X2[:, 1], 'rs', markersize = 9, alpha = .9)\n",
        "\n",
        "    plt.axis('equal')\n",
        "    plt.plot()\n",
        "    plt.show()\n",
        "    \n",
        "kmeans_display(X, original_label)"
      ],
      "execution_count": 3,
      "outputs": [
        {
          "output_type": "display_data",
          "data": {
            "image/png": "[encoded data removed]",
            "text/plain": [
              "<Figure size 432x288 with 1 Axes>"
            ]
          },
          "metadata": {
            "needs_background": "light"
          }
        }
      ]
    },
    {
      "cell_type": "code",
      "metadata": {
        "id": "xFP9JgIg26j9"
      },
      "source": [
        "def initialize_centroids(points, k):\n",
        "    \"\"\"returns k centroids from the initial points\"\"\"\n",
        "    centroids = points.copy()\n",
        "    np.random.shuffle(centroids)\n",
        "    return centroids[:k]"
      ],
      "execution_count": 4,
      "outputs": []
    },
    {
      "cell_type": "code",
      "metadata": {
        "id": "CetuH_tw26mp",
        "colab": {
          "base_uri": "https://localhost:8080/"
        },
        "outputId": "f08143c1-63d9-4f63-d0b8-6c230cd757ab"
      },
      "source": [
        "initialize_centroids(X, K)"
      ],
      "execution_count": 5,
      "outputs": [
        {
          "output_type": "execute_result",
          "data": {
            "text/plain": [
              "array([[2.73683739, 3.57463407],\n",
              "       [9.06755846, 1.93836555],\n",
              "       [0.45313743, 3.29561858]])"
            ]
          },
          "metadata": {},
          "execution_count": 5
        }
      ]
    },
    {
      "cell_type": "code",
      "metadata": {
        "id": "qJlq8IC626pw",
        "colab": {
          "base_uri": "https://localhost:8080/",
          "height": 282
        },
        "outputId": "d1c2b10d-d0b6-4d4d-d043-fab34bac207f"
      },
      "source": [
        "plt.scatter(X[:, 0], X[:, 1])\n",
        "centroids = initialize_centroids(X, K)\n",
        "plt.scatter(centroids[:, 0], centroids[:, 1], c='r', s=100)"
      ],
      "execution_count": 6,
      "outputs": [
        {
          "output_type": "execute_result",
          "data": {
            "text/plain": [
              "<matplotlib.collections.PathCollection at 0x7f44d2409b10>"
            ]
          },
          "metadata": {},
          "execution_count": 6
        },
        {
          "output_type": "display_data",
          "data": {
            "image/png": "[encoded data removed]",
            "text/plain": [
              "<Figure size 432x288 with 1 Axes>"
            ]
          },
          "metadata": {
            "needs_background": "light"
          }
        }
      ]
    },
    {
      "cell_type": "code",
      "metadata": {
        "id": "ruuMVo4a-LEa"
      },
      "source": [
        "def closest_centroid(X, centroids):\n",
        "    d = np.sqrt(((X - centroids[:, np.newaxis])**2).sum(axis=2))\n",
        "    return np.argmin(d, axis=0)"
      ],
      "execution_count": 7,
      "outputs": []
    },
    {
      "cell_type": "code",
      "metadata": {
        "id": "RtAnhRiE-LHO",
        "colab": {
          "base_uri": "https://localhost:8080/"
        },
        "outputId": "bb3778cf-32a5-42bc-89bb-dc43e8034ffa"
      },
      "source": [
        "c = initialize_centroids(X, K)\n",
        "closest_centroid(X, c)"
      ],
      "execution_count": 8,
      "outputs": [
        {
          "output_type": "execute_result",
          "data": {
            "text/plain": [
              "array([2, 1, 1, 1, 1, 1, 1, 1, 2, 1, 1, 2, 1, 1, 1, 1, 1, 1, 1, 1, 1, 0,\n",
              "       0, 0, 2, 0, 0, 0, 0, 0, 0, 0, 0, 0, 0, 0, 0, 0, 0, 0, 0, 0, 2, 2,\n",
              "       2, 2, 2, 2, 2, 2, 2, 1, 2, 2, 2, 2, 1, 2, 2, 2, 1, 2, 2])"
            ]
          },
          "metadata": {},
          "execution_count": 8
        }
      ]
    },
    {
      "cell_type": "code",
      "metadata": {
        "id": "z-NlAjhl-LMH",
        "colab": {
          "base_uri": "https://localhost:8080/"
        },
        "outputId": "a1453049-ad33-46bd-a82d-4df167eefa0c"
      },
      "source": [
        "c"
      ],
      "execution_count": 9,
      "outputs": [
        {
          "output_type": "execute_result",
          "data": {
            "text/plain": [
              "array([[9.34537807, 4.01594215],\n",
              "       [2.73227135, 1.35742461],\n",
              "       [3.74945474, 1.713927  ]])"
            ]
          },
          "metadata": {},
          "execution_count": 9
        }
      ]
    },
    {
      "cell_type": "code",
      "metadata": {
        "id": "qf7mij01-LQW",
        "colab": {
          "base_uri": "https://localhost:8080/"
        },
        "outputId": "2e8d04b7-4a4f-46ec-9014-39ddc3f3afd1"
      },
      "source": [
        "c_extended = c[: , np.newaxis, :]\n",
        "c_extended"
      ],
      "execution_count": 10,
      "outputs": [
        {
          "output_type": "execute_result",
          "data": {
            "text/plain": [
              "array([[[9.34537807, 4.01594215]],\n",
              "\n",
              "       [[2.73227135, 1.35742461]],\n",
              "\n",
              "       [[3.74945474, 1.713927  ]]])"
            ]
          },
          "metadata": {},
          "execution_count": 10
        }
      ]
    },
    {
      "cell_type": "code",
      "metadata": {
        "id": "7d-Sv6BI-LSk",
        "colab": {
          "base_uri": "https://localhost:8080/"
        },
        "outputId": "2fd09057-5f94-43d6-f211-517892eb3bb8"
      },
      "source": [
        "x0 = X[0]\n",
        "x0"
      ],
      "execution_count": 11,
      "outputs": [
        {
          "output_type": "execute_result",
          "data": {
            "text/plain": [
              "array([3.74945474, 1.713927  ])"
            ]
          },
          "metadata": {},
          "execution_count": 11
        }
      ]
    },
    {
      "cell_type": "code",
      "metadata": {
        "id": "znliTeRl-LUQ",
        "colab": {
          "base_uri": "https://localhost:8080/"
        },
        "outputId": "a154585b-d626-4f1a-910a-bc7310f09486"
      },
      "source": [
        "(c_extended - x0).shape"
      ],
      "execution_count": 12,
      "outputs": [
        {
          "output_type": "execute_result",
          "data": {
            "text/plain": [
              "(3, 1, 2)"
            ]
          },
          "metadata": {},
          "execution_count": 12
        }
      ]
    },
    {
      "cell_type": "code",
      "metadata": {
        "id": "DUp7fAymimEj"
      },
      "source": [
        ""
      ],
      "execution_count": null,
      "outputs": []
    },
    {
      "cell_type": "code",
      "metadata": {
        "id": "H-QeuTyvimHP"
      },
      "source": [
        "def move_centroids(X, closest, centroids):\n",
        "    return np.array([X[closest==k].mean(axis=0) for k in range(centroids.shape[0])])"
      ],
      "execution_count": 13,
      "outputs": []
    },
    {
      "cell_type": "code",
      "metadata": {
        "id": "C8LcSpwEimJs",
        "colab": {
          "base_uri": "https://localhost:8080/"
        },
        "outputId": "51b230b0-bd43-419c-bbdd-6c7a9daf1041"
      },
      "source": [
        "move_centroids(X, closest_centroid(X, c), c)"
      ],
      "execution_count": 14,
      "outputs": [
        {
          "output_type": "execute_result",
          "data": {
            "text/plain": [
              "array([[8.3171381 , 3.04280382],\n",
              "       [1.81567086, 2.29562276],\n",
              "       [3.4414449 , 5.42060873]])"
            ]
          },
          "metadata": {},
          "execution_count": 14
        }
      ]
    },
    {
      "cell_type": "code",
      "metadata": {
        "id": "oGMol2krimMk",
        "colab": {
          "base_uri": "https://localhost:8080/",
          "height": 282
        },
        "outputId": "efda2ab4-80e5-4924-ea7f-ab41fd68c15d"
      },
      "source": [
        "plt.subplot(121)\n",
        "plt.scatter(X[:, 0], X[:, 1])\n",
        "centroids = initialize_centroids(X, K)\n",
        "plt.scatter(centroids[:, 0], centroids[:, 1], c='r', s=100)\n",
        "\n",
        "plt.subplot(122)\n",
        "plt.scatter(X[:, 0], X[:, 1])\n",
        "closest = closest_centroid(X, centroids)\n",
        "centroids = move_centroids(X, closest, centroids)\n",
        "plt.scatter(centroids[:, 0], centroids[:, 1], c='r', s=100)"
      ],
      "execution_count": 15,
      "outputs": [
        {
          "output_type": "execute_result",
          "data": {
            "text/plain": [
              "<matplotlib.collections.PathCollection at 0x7f44d2353950>"
            ]
          },
          "metadata": {},
          "execution_count": 15
        },
        {
          "output_type": "display_data",
          "data": {
            "image/png": "[encoded data removed]",
            "text/plain": [
              "<Figure size 432x288 with 2 Axes>"
            ]
          },
          "metadata": {
            "needs_background": "light"
          }
        }
      ]
    },
    {
      "cell_type": "code",
      "metadata": {
        "id": "sg9MIUwVimOq"
      },
      "source": [
        ""
      ],
      "execution_count": null,
      "outputs": []
    },
    {
      "cell_type": "code",
      "metadata": {
        "id": "umGDQic3imm8"
      },
      "source": [
        ""
      ],
      "execution_count": null,
      "outputs": []
    },
    {
      "cell_type": "code",
      "metadata": {
        "id": "1Q0rxxSqim00"
      },
      "source": [
        ""
      ],
      "execution_count": null,
      "outputs": []
    },
    {
      "cell_type": "code",
      "metadata": {
        "id": "J0Bn5HcE-LWB"
      },
      "source": [
        ""
      ],
      "execution_count": null,
      "outputs": []
    },
    {
      "cell_type": "code",
      "metadata": {
        "id": "1kS81LhB-LXo"
      },
      "source": [
        ""
      ],
      "execution_count": null,
      "outputs": []
    },
    {
      "cell_type": "code",
      "metadata": {
        "id": "YR9YeYyT-LY0"
      },
      "source": [
        ""
      ],
      "execution_count": null,
      "outputs": []
    },
    {
      "cell_type": "code",
      "metadata": {
        "id": "eda5fanp26yW"
      },
      "source": [
        ""
      ],
      "execution_count": null,
      "outputs": []
    }
  ]
}